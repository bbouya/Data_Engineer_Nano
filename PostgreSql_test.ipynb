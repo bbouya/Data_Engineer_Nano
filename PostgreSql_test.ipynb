{
 "cells": [
  {
   "cell_type": "markdown",
   "id": "e6915d8a",
   "metadata": {},
   "source": [
    "#  PostgreSql and AutoCommits\n"
   ]
  },
  {
   "cell_type": "code",
   "execution_count": 4,
   "id": "ce2dabef",
   "metadata": {},
   "outputs": [],
   "source": [
    "import psycopg2\n"
   ]
  },
  {
   "cell_type": "markdown",
   "id": "ccb9065f",
   "metadata": {},
   "source": [
    "#  First let's create a connection to database\n",
    "This connects to out local Instance of postgreSql. From there we will use the databases/ schema. This connection will reach out to the database and insure we have the connect to this database."
   ]
  },
  {
   "cell_type": "code",
   "execution_count": 9,
   "id": "ccc09b35",
   "metadata": {},
   "outputs": [
    {
     "ename": "ProgrammingError",
     "evalue": "invalid dsn: invalid connection option \"localhost\"\n",
     "output_type": "error",
     "traceback": [
      "\u001b[1;31m---------------------------------------------------------------------------\u001b[0m",
      "\u001b[1;31mProgrammingError\u001b[0m                          Traceback (most recent call last)",
      "\u001b[1;32mc:\\Users\\zolboy\\Documents\\GitHub\\Data_Engineer_Nano\\PostgreSql_test.ipynb Cell 4'\u001b[0m in \u001b[0;36m<cell line: 1>\u001b[1;34m()\u001b[0m\n\u001b[1;32m----> <a href='vscode-notebook-cell:/c%3A/Users/zolboy/Documents/GitHub/Data_Engineer_Nano/PostgreSql_test.ipynb#ch0000003?line=0'>1</a>\u001b[0m conn \u001b[39m=\u001b[39m psycopg2\u001b[39m.\u001b[39;49mconnect(\u001b[39m'\u001b[39;49m\u001b[39mlocalhost = 127.0.0.1\u001b[39;49m\u001b[39m'\u001b[39;49m)\n",
      "File \u001b[1;32m~\\AppData\\Local\\Programs\\Python\\Python310\\lib\\site-packages\\psycopg2\\__init__.py:121\u001b[0m, in \u001b[0;36mconnect\u001b[1;34m(dsn, connection_factory, cursor_factory, **kwargs)\u001b[0m\n\u001b[0;32m    <a href='file:///c%3A/Users/zolboy/AppData/Local/Programs/Python/Python310/lib/site-packages/psycopg2/__init__.py?line=117'>118</a>\u001b[0m \u001b[39mif\u001b[39;00m \u001b[39m'\u001b[39m\u001b[39masync_\u001b[39m\u001b[39m'\u001b[39m \u001b[39min\u001b[39;00m kwargs:\n\u001b[0;32m    <a href='file:///c%3A/Users/zolboy/AppData/Local/Programs/Python/Python310/lib/site-packages/psycopg2/__init__.py?line=118'>119</a>\u001b[0m     kwasync[\u001b[39m'\u001b[39m\u001b[39masync_\u001b[39m\u001b[39m'\u001b[39m] \u001b[39m=\u001b[39m kwargs\u001b[39m.\u001b[39mpop(\u001b[39m'\u001b[39m\u001b[39masync_\u001b[39m\u001b[39m'\u001b[39m)\n\u001b[1;32m--> <a href='file:///c%3A/Users/zolboy/AppData/Local/Programs/Python/Python310/lib/site-packages/psycopg2/__init__.py?line=120'>121</a>\u001b[0m dsn \u001b[39m=\u001b[39m _ext\u001b[39m.\u001b[39mmake_dsn(dsn, \u001b[39m*\u001b[39m\u001b[39m*\u001b[39mkwargs)\n\u001b[0;32m    <a href='file:///c%3A/Users/zolboy/AppData/Local/Programs/Python/Python310/lib/site-packages/psycopg2/__init__.py?line=121'>122</a>\u001b[0m conn \u001b[39m=\u001b[39m _connect(dsn, connection_factory\u001b[39m=\u001b[39mconnection_factory, \u001b[39m*\u001b[39m\u001b[39m*\u001b[39mkwasync)\n\u001b[0;32m    <a href='file:///c%3A/Users/zolboy/AppData/Local/Programs/Python/Python310/lib/site-packages/psycopg2/__init__.py?line=122'>123</a>\u001b[0m \u001b[39mif\u001b[39;00m cursor_factory \u001b[39mis\u001b[39;00m \u001b[39mnot\u001b[39;00m \u001b[39mNone\u001b[39;00m:\n",
      "File \u001b[1;32m~\\AppData\\Local\\Programs\\Python\\Python310\\lib\\site-packages\\psycopg2\\extensions.py:145\u001b[0m, in \u001b[0;36mmake_dsn\u001b[1;34m(dsn, **kwargs)\u001b[0m\n\u001b[0;32m    <a href='file:///c%3A/Users/zolboy/AppData/Local/Programs/Python/Python310/lib/site-packages/psycopg2/extensions.py?line=142'>143</a>\u001b[0m \u001b[39m# If no kwarg is specified don't mung the dsn, but verify it\u001b[39;00m\n\u001b[0;32m    <a href='file:///c%3A/Users/zolboy/AppData/Local/Programs/Python/Python310/lib/site-packages/psycopg2/extensions.py?line=143'>144</a>\u001b[0m \u001b[39mif\u001b[39;00m \u001b[39mnot\u001b[39;00m kwargs:\n\u001b[1;32m--> <a href='file:///c%3A/Users/zolboy/AppData/Local/Programs/Python/Python310/lib/site-packages/psycopg2/extensions.py?line=144'>145</a>\u001b[0m     parse_dsn(dsn)\n\u001b[0;32m    <a href='file:///c%3A/Users/zolboy/AppData/Local/Programs/Python/Python310/lib/site-packages/psycopg2/extensions.py?line=145'>146</a>\u001b[0m     \u001b[39mreturn\u001b[39;00m dsn\n\u001b[0;32m    <a href='file:///c%3A/Users/zolboy/AppData/Local/Programs/Python/Python310/lib/site-packages/psycopg2/extensions.py?line=147'>148</a>\u001b[0m \u001b[39m# Override the dsn with the parameters\u001b[39;00m\n",
      "\u001b[1;31mProgrammingError\u001b[0m: invalid dsn: invalid connection option \"localhost\"\n"
     ]
    }
   ],
   "source": [
    "conn = psycopg2.connect('localhost = 127.0.0.1, database = postgres, user = postgres, password = postgres')"
   ]
  },
  {
   "cell_type": "code",
   "execution_count": null,
   "id": "ff3c504a",
   "metadata": {},
   "outputs": [],
   "source": []
  }
 ],
 "metadata": {
  "kernelspec": {
   "display_name": "Python 3",
   "language": "python",
   "name": "python3"
  },
  "language_info": {
   "codemirror_mode": {
    "name": "ipython",
    "version": 3
   },
   "file_extension": ".py",
   "mimetype": "text/x-python",
   "name": "python",
   "nbconvert_exporter": "python",
   "pygments_lexer": "ipython3",
   "version": "3.10.2"
  }
 },
 "nbformat": 4,
 "nbformat_minor": 5
}
