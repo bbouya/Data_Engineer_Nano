{
 "cells": [
  {
   "cell_type": "markdown",
   "id": "e6915d8a",
   "metadata": {},
   "source": [
    "#  PostgreSql and AutoCommits\n"
   ]
  },
  {
   "cell_type": "code",
   "execution_count": 43,
   "id": "ce2dabef",
   "metadata": {},
   "outputs": [],
   "source": [
    "import psycopg2\n"
   ]
  },
  {
   "cell_type": "markdown",
   "id": "ccb9065f",
   "metadata": {},
   "source": [
    "#  First let's create a connection to database\n",
    "This connects to out local Instance of postgreSql. From there we will use the databases/ schema. This connection will reach out to the database and insure we have the connect to this database."
   ]
  },
  {
   "cell_type": "code",
   "execution_count": 44,
   "id": "ccc09b35",
   "metadata": {},
   "outputs": [],
   "source": [
    "try:\n",
    "    conn = psycopg2.connect( host = \"127.0.0.1\",\n",
    "                         database = \"postgres\", \n",
    "                         user = \"postgres\", \n",
    "                         password = \"1234\",\n",
    "                         port = '5432')\n",
    "except psycopg2.Error as e: \n",
    "    print('Error: could not make connection to the Postgres Database')\n",
    "    print(e)"
   ]
  },
  {
   "cell_type": "markdown",
   "id": "4d16c689",
   "metadata": {},
   "source": [
    "### Next use that connection to get a cursor that we wil use to execute queries."
   ]
  }
 ],
 "metadata": {
  "kernelspec": {
   "display_name": "Python 3",
   "language": "python",
   "name": "python3"
  },
  "language_info": {
   "codemirror_mode": {
    "name": "ipython",
    "version": 3
   },
   "file_extension": ".py",
   "mimetype": "text/x-python",
   "name": "python",
   "nbconvert_exporter": "python",
   "pygments_lexer": "ipython3",
   "version": "3.10.2"
  }
 },
 "nbformat": 4,
 "nbformat_minor": 5
}
