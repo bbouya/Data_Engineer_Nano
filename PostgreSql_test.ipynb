{
 "cells": [
  {
   "cell_type": "markdown",
   "id": "e6915d8a",
   "metadata": {},
   "source": [
    "#  PostgreSql and AutoCommits\n"
   ]
  },
  {
   "cell_type": "code",
   "execution_count": 43,
   "id": "ce2dabef",
   "metadata": {},
   "outputs": [],
   "source": [
    "import psycopg2\n"
   ]
  },
  {
   "cell_type": "markdown",
   "id": "ccb9065f",
   "metadata": {},
   "source": [
    "#  First let's create a connection to database\n",
    "This connects to out local Instance of postgreSql. From there we will use the databases/ schema. This connection will reach out to the database and insure we have the connect to this database."
   ]
  },
  {
   "cell_type": "code",
   "execution_count": 44,
   "id": "ccc09b35",
   "metadata": {},
   "outputs": [],
   "source": [
    "try:\n",
    "    conn = psycopg2.connect( host = \"127.0.0.1\",\n",
    "                         database = \"postgres\", \n",
    "                         user = \"postgres\", \n",
    "                         password = \"1234\",\n",
    "                         port = '5432')\n",
    "except psycopg2.Error as e: \n",
    "    print('Error: could not make connection to the Postgres Database')\n",
    "    print(e)\n",
    "    "
   ]
  },
  {
   "cell_type": "markdown",
   "id": "bd7918e3",
   "metadata": {},
   "source": [
    "### Next use that connect to get cursor that we will use to execute queries:"
   ]
  },
  {
   "cell_type": "code",
   "execution_count": 49,
   "id": "6695b6aa",
   "metadata": {},
   "outputs": [],
   "source": [
    "try:\n",
    "    cur = conn.cursor()\n",
    "except psycopg2.Error as e :\n",
    "    print('Error : could not get curser to the Database')\n",
    "    print(e)"
   ]
  },
  {
   "cell_type": "markdown",
   "id": "1875bbdf",
   "metadata": {},
   "source": [
    "#### for this demo we will use automactic commit so that each action is commited without having to call conn.commit() after each command, The ability to rollback and commit transactions are a feature of relational database"
   ]
  },
  {
   "cell_type": "code",
   "execution_count": 50,
   "id": "47522dd9",
   "metadata": {},
   "outputs": [],
   "source": [
    "conn.set_session(autocommit = True)"
   ]
  },
  {
   "cell_type": "code",
   "execution_count": 51,
   "id": "e1a5e525",
   "metadata": {},
   "outputs": [],
   "source": [
    "try:\n",
    "    cur.execute('select * from test123')\n",
    "\n",
    "except psycopg2.Error as e :\n",
    "    print('the conection fail please ....(-.-)')\n",
    "    print(e)"
   ]
  },
  {
   "cell_type": "markdown",
   "id": "577557c3",
   "metadata": {},
   "source": [
    "### Lets create our database to do our work their"
   ]
  },
  {
   "cell_type": "code",
   "execution_count": 52,
   "id": "40d3330f",
   "metadata": {},
   "outputs": [],
   "source": [
    "try:\n",
    "    cur.execute('CREATE DATABASE UDACITY')\n",
    "except psycopg2.Error as e:\n",
    "    print(e)"
   ]
  },
  {
   "cell_type": "code",
   "execution_count": 53,
   "id": "8c9267e5",
   "metadata": {},
   "outputs": [],
   "source": [
    "### Lets close our connection to the default database, reconnect to the udacity database and get a new cursor:\n"
   ]
  },
  {
   "cell_type": "code",
   "execution_count": 55,
   "id": "a1c3b8f8",
   "metadata": {},
   "outputs": [],
   "source": [
    "try:\n",
    "    conn.close()\n",
    "except psycopg2.Error as e:\n",
    "    print(e)\n",
    "\n"
   ]
  },
  {
   "cell_type": "code",
   "execution_count": 67,
   "id": "2ddca911",
   "metadata": {},
   "outputs": [],
   "source": [
    "try:\n",
    "    conn = psycopg2.connect(host = \"127.0.0.1\",\n",
    "                         database = \"udacity\", \n",
    "                         user = \"postgres\", \n",
    "                         password = \"1234\",\n",
    "                         port = '5432')\n",
    "except psycopg2.Error as e :\n",
    "    print(e)\n",
    "\n"
   ]
  },
  {
   "cell_type": "code",
   "execution_count": 68,
   "id": "b6c91cf6",
   "metadata": {},
   "outputs": [],
   "source": [
    "try:\n",
    "    cor = conn.cursor()\n",
    "except psycopg2.Error as e:\n",
    "    print(e)\n",
    "\n",
    "conn.set_session(autocommit = True ) \n",
    "\n"
   ]
  },
  {
   "cell_type": "markdown",
   "id": "1afda25f",
   "metadata": {},
   "source": [
    "### Let's imagine we would like to start creating a Music library of albums, each album has a lot of information we could add to them music library table, but we will just start with album name, artist name, year. The type of table we want to create and the columns we need seems to fall out very naturally.\n",
    "{{{{Table Name : music_library}}}}\n",
    "{{{{column 1: Album Name}}}}\n",
    "......"
   ]
  },
  {
   "cell_type": "code",
   "execution_count": 72,
   "id": "4cf71248",
   "metadata": {},
   "outputs": [],
   "source": [
    "try:\n",
    "    cur = conn.cursor()\n",
    "    cur.execute('CREATE TABLE IF NOT EXISTS MUSIC_Library (album_name varchar, artist_name varchar, year int);')\n",
    "except psycopg2.Error as e:\n",
    "    print('Error: Issue creating table')\n",
    "    print(e)\n",
    "\n"
   ]
  },
  {
   "cell_type": "markdown",
   "id": "ec1f5771",
   "metadata": {},
   "source": [
    "### No error was found, but lets check to ensure our table was created, select count(*) which should return 0 as we have not inseted any rows.\n"
   ]
  },
  {
   "cell_type": "code",
   "execution_count": 73,
   "id": "b33268d6",
   "metadata": {},
   "outputs": [
    {
     "name": "stdout",
     "output_type": "stream",
     "text": [
      "[(0,)]\n"
     ]
    }
   ],
   "source": [
    "try:\n",
    "    cur.execute('select count(*) from music_library')\n",
    "except psycopg2.Error as e:\n",
    "    print('Error: Issue creating table')\n",
    "    print(e)\n",
    "print(cur.fetchall())"
   ]
  },
  {
   "cell_type": "markdown",
   "id": "a7a7a14e",
   "metadata": {},
   "source": [
    "### Lets insert two rows \n",
    "note the syntaxe here"
   ]
  },
  {
   "cell_type": "code",
   "execution_count": null,
   "id": "f16e15d8",
   "metadata": {},
   "outputs": [],
   "source": [
    "try:\n",
    "    cur.execute('insert into music_library (album_name, artist_name, year)')"
   ]
  },
  {
   "cell_type": "code",
   "execution_count": null,
   "id": "ae098d8d",
   "metadata": {},
   "outputs": [],
   "source": []
  }
 ],
 "metadata": {
  "kernelspec": {
   "display_name": "Python 3",
   "language": "python",
   "name": "python3"
  },
  "language_info": {
   "codemirror_mode": {
    "name": "ipython",
    "version": 3
   },
   "file_extension": ".py",
   "mimetype": "text/x-python",
   "name": "python",
   "nbconvert_exporter": "python",
   "pygments_lexer": "ipython3",
   "version": "3.10.2"
  }
 },
 "nbformat": 4,
 "nbformat_minor": 5
}
