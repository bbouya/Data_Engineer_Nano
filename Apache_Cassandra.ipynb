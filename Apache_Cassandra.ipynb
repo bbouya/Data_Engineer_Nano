{
 "cells": [
  {
   "cell_type": "markdown",
   "metadata": {},
   "source": [
    "#### In this demo we are going to wokd through the basics of creating a table in Apache Cassandra, inseting rows of data and doing a simple SQL query ti validate the informations.\n",
    "\n",
    "We will use python wrapprt driver called cassandra to run the Apache Cassandra, inserting rows of datan and doing a simple SQL query.\n"
   ]
  },
  {
   "cell_type": "markdown",
   "metadata": {},
   "source": [
    "import cassandra"
   ]
  },
  {
   "cell_type": "code",
   "execution_count": null,
   "metadata": {},
   "outputs": [],
   "source": [
    "import cassandra"
   ]
  },
  {
   "cell_type": "code",
   "execution_count": null,
   "metadata": {},
   "outputs": [],
   "source": []
  }
 ],
 "metadata": {
  "interpreter": {
   "hash": "05eb3faa41d8db16dc755791c22c8684b7ee4fa17e53b99c798b3915decdc0a8"
  },
  "kernelspec": {
   "display_name": "Python 3.10.2 64-bit",
   "language": "python",
   "name": "python3"
  },
  "language_info": {
   "name": "python",
   "version": "3.10.2"
  },
  "orig_nbformat": 4
 },
 "nbformat": 4,
 "nbformat_minor": 2
}
